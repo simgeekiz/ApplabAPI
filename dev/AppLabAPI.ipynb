{
 "cells": [
  {
   "cell_type": "code",
   "execution_count": 1,
   "metadata": {},
   "outputs": [],
   "source": [
    "import json\n",
    "import pandas as pd"
   ]
  },
  {
   "cell_type": "code",
   "execution_count": 6,
   "metadata": {},
   "outputs": [],
   "source": [
    "filePath = \"../data/data.csv\""
   ]
  },
  {
   "cell_type": "code",
   "execution_count": 7,
   "metadata": {},
   "outputs": [],
   "source": [
    "df = pd.read_csv(filePath)"
   ]
  },
  {
   "cell_type": "code",
   "execution_count": 328,
   "metadata": {},
   "outputs": [
    {
     "data": {
      "text/html": [
       "<div>\n",
       "<style scoped>\n",
       "    .dataframe tbody tr th:only-of-type {\n",
       "        vertical-align: middle;\n",
       "    }\n",
       "\n",
       "    .dataframe tbody tr th {\n",
       "        vertical-align: top;\n",
       "    }\n",
       "\n",
       "    .dataframe thead th {\n",
       "        text-align: right;\n",
       "    }\n",
       "</style>\n",
       "<table border=\"1\" class=\"dataframe\">\n",
       "  <thead>\n",
       "    <tr style=\"text-align: right;\">\n",
       "      <th></th>\n",
       "      <th>SubmitDateTime</th>\n",
       "      <th>UserId</th>\n",
       "      <th>ExerciseId</th>\n",
       "      <th>LearningObjectiveId</th>\n",
       "      <th>Correct</th>\n",
       "      <th>AbilityAfterAnswer</th>\n",
       "    </tr>\n",
       "  </thead>\n",
       "  <tbody>\n",
       "    <tr>\n",
       "      <th>0</th>\n",
       "      <td>2017-11-28 07:32:54.487</td>\n",
       "      <td>2041</td>\n",
       "      <td>1132397</td>\n",
       "      <td>785</td>\n",
       "      <td>1</td>\n",
       "      <td>552</td>\n",
       "    </tr>\n",
       "    <tr>\n",
       "      <th>1</th>\n",
       "      <td>2017-11-28 07:33:16.340</td>\n",
       "      <td>2041</td>\n",
       "      <td>2214055</td>\n",
       "      <td>785</td>\n",
       "      <td>0</td>\n",
       "      <td>542</td>\n",
       "    </tr>\n",
       "    <tr>\n",
       "      <th>2</th>\n",
       "      <td>2017-11-28 07:33:19.497</td>\n",
       "      <td>2041</td>\n",
       "      <td>2214055</td>\n",
       "      <td>785</td>\n",
       "      <td>0</td>\n",
       "      <td>NULL</td>\n",
       "    </tr>\n",
       "    <tr>\n",
       "      <th>3</th>\n",
       "      <td>2017-11-28 07:33:26.300</td>\n",
       "      <td>2041</td>\n",
       "      <td>2214055</td>\n",
       "      <td>785</td>\n",
       "      <td>1</td>\n",
       "      <td>NULL</td>\n",
       "    </tr>\n",
       "    <tr>\n",
       "      <th>4</th>\n",
       "      <td>2017-11-28 07:33:35.043</td>\n",
       "      <td>2041</td>\n",
       "      <td>1599782</td>\n",
       "      <td>785</td>\n",
       "      <td>1</td>\n",
       "      <td>544</td>\n",
       "    </tr>\n",
       "  </tbody>\n",
       "</table>\n",
       "</div>"
      ],
      "text/plain": [
       "            SubmitDateTime  UserId  ExerciseId  LearningObjectiveId  Correct  \\\n",
       "0  2017-11-28 07:32:54.487    2041     1132397                  785        1   \n",
       "1  2017-11-28 07:33:16.340    2041     2214055                  785        0   \n",
       "2  2017-11-28 07:33:19.497    2041     2214055                  785        0   \n",
       "3  2017-11-28 07:33:26.300    2041     2214055                  785        1   \n",
       "4  2017-11-28 07:33:35.043    2041     1599782                  785        1   \n",
       "\n",
       "  AbilityAfterAnswer  \n",
       "0               552   \n",
       "1               542   \n",
       "2              NULL   \n",
       "3              NULL   \n",
       "4               544   "
      ]
     },
     "execution_count": 328,
     "metadata": {},
     "output_type": "execute_result"
    }
   ],
   "source": [
    "df.head()"
   ]
  },
  {
   "cell_type": "code",
   "execution_count": 8,
   "metadata": {},
   "outputs": [],
   "source": [
    "data_ = df[(df['UserId'] == 2041) & (df['LearningObjectiveId'] == 785)][\"ExerciseId\"].unique()"
   ]
  },
  {
   "cell_type": "code",
   "execution_count": 9,
   "metadata": {},
   "outputs": [
    {
     "data": {
      "text/plain": [
       "0        True\n",
       "1        True\n",
       "2        True\n",
       "3        True\n",
       "4        True\n",
       "5        True\n",
       "6        True\n",
       "7       False\n",
       "8        True\n",
       "9        True\n",
       "10       True\n",
       "11      False\n",
       "12      False\n",
       "13      False\n",
       "14      False\n",
       "15      False\n",
       "16      False\n",
       "17      False\n",
       "18      False\n",
       "19      False\n",
       "20      False\n",
       "21      False\n",
       "22      False\n",
       "23      False\n",
       "24      False\n",
       "25      False\n",
       "26      False\n",
       "27      False\n",
       "28      False\n",
       "29      False\n",
       "        ...  \n",
       "7126    False\n",
       "7127    False\n",
       "7128    False\n",
       "7129    False\n",
       "7130    False\n",
       "7131    False\n",
       "7132    False\n",
       "7133    False\n",
       "7134    False\n",
       "7135    False\n",
       "7136    False\n",
       "7137    False\n",
       "7138    False\n",
       "7139    False\n",
       "7140    False\n",
       "7141    False\n",
       "7142    False\n",
       "7143    False\n",
       "7144    False\n",
       "7145    False\n",
       "7146    False\n",
       "7147    False\n",
       "7148    False\n",
       "7149    False\n",
       "7150    False\n",
       "7151    False\n",
       "7152    False\n",
       "7153    False\n",
       "7154    False\n",
       "7155    False\n",
       "Name: UserId, Length: 7156, dtype: bool"
      ]
     },
     "execution_count": 9,
     "metadata": {},
     "output_type": "execute_result"
    }
   ],
   "source": [
    "df['UserId'] == 2041"
   ]
  },
  {
   "cell_type": "markdown",
   "metadata": {},
   "source": [
    "### Generate Random Data"
   ]
  },
  {
   "cell_type": "code",
   "execution_count": 305,
   "metadata": {},
   "outputs": [],
   "source": [
    "import random\n",
    "from datetime import datetime as dt "
   ]
  },
  {
   "cell_type": "code",
   "execution_count": 316,
   "metadata": {},
   "outputs": [],
   "source": [
    "new_data = []\n",
    "for i in range(0, 8000):\n",
    "    att = {}\n",
    "    att['AbilityAfterAnswer'] = random.randint(100, 1000)\n",
    "    att['UserId'] = random.randint(3000, 3100)\n",
    "    att['Correct'] = random.randint(0, 1)\n",
    "    att['LearningObjectiveId'] = random.randint(670, 680)\n",
    "    att['SubmitDateTime'] = dt.now().strftime(\"%F %H:%M:%S.%f\")\n",
    "    att['ExerciseId'] = random.randint(100000, 300000)\n",
    "    new_data.append(att)"
   ]
  },
  {
   "cell_type": "code",
   "execution_count": 318,
   "metadata": {},
   "outputs": [],
   "source": [
    "new_df = pd.DataFrame(new_data)"
   ]
  },
  {
   "cell_type": "code",
   "execution_count": 319,
   "metadata": {},
   "outputs": [],
   "source": [
    "new_df.to_csv(\"../AppLabServer/data/random-data.csv\")"
   ]
  },
  {
   "cell_type": "code",
   "execution_count": 329,
   "metadata": {},
   "outputs": [
    {
     "data": {
      "text/html": [
       "<div>\n",
       "<style scoped>\n",
       "    .dataframe tbody tr th:only-of-type {\n",
       "        vertical-align: middle;\n",
       "    }\n",
       "\n",
       "    .dataframe tbody tr th {\n",
       "        vertical-align: top;\n",
       "    }\n",
       "\n",
       "    .dataframe thead th {\n",
       "        text-align: right;\n",
       "    }\n",
       "</style>\n",
       "<table border=\"1\" class=\"dataframe\">\n",
       "  <thead>\n",
       "    <tr style=\"text-align: right;\">\n",
       "      <th></th>\n",
       "      <th>AbilityAfterAnswer</th>\n",
       "      <th>Correct</th>\n",
       "      <th>ExerciseId</th>\n",
       "      <th>LearningObjectiveId</th>\n",
       "      <th>SubmitDateTime</th>\n",
       "      <th>UserId</th>\n",
       "    </tr>\n",
       "  </thead>\n",
       "  <tbody>\n",
       "    <tr>\n",
       "      <th>0</th>\n",
       "      <td>439</td>\n",
       "      <td>0</td>\n",
       "      <td>206485</td>\n",
       "      <td>673</td>\n",
       "      <td>2018-04-21 15:41:37.894751</td>\n",
       "      <td>3057</td>\n",
       "    </tr>\n",
       "    <tr>\n",
       "      <th>1</th>\n",
       "      <td>800</td>\n",
       "      <td>1</td>\n",
       "      <td>275954</td>\n",
       "      <td>674</td>\n",
       "      <td>2018-04-21 15:41:37.894818</td>\n",
       "      <td>3021</td>\n",
       "    </tr>\n",
       "    <tr>\n",
       "      <th>2</th>\n",
       "      <td>530</td>\n",
       "      <td>0</td>\n",
       "      <td>132677</td>\n",
       "      <td>671</td>\n",
       "      <td>2018-04-21 15:41:37.894854</td>\n",
       "      <td>3054</td>\n",
       "    </tr>\n",
       "    <tr>\n",
       "      <th>3</th>\n",
       "      <td>457</td>\n",
       "      <td>1</td>\n",
       "      <td>192364</td>\n",
       "      <td>673</td>\n",
       "      <td>2018-04-21 15:41:37.894889</td>\n",
       "      <td>3004</td>\n",
       "    </tr>\n",
       "    <tr>\n",
       "      <th>4</th>\n",
       "      <td>269</td>\n",
       "      <td>1</td>\n",
       "      <td>168926</td>\n",
       "      <td>680</td>\n",
       "      <td>2018-04-21 15:41:37.894920</td>\n",
       "      <td>3050</td>\n",
       "    </tr>\n",
       "  </tbody>\n",
       "</table>\n",
       "</div>"
      ],
      "text/plain": [
       "   AbilityAfterAnswer  Correct  ExerciseId  LearningObjectiveId  \\\n",
       "0                 439        0      206485                  673   \n",
       "1                 800        1      275954                  674   \n",
       "2                 530        0      132677                  671   \n",
       "3                 457        1      192364                  673   \n",
       "4                 269        1      168926                  680   \n",
       "\n",
       "               SubmitDateTime  UserId  \n",
       "0  2018-04-21 15:41:37.894751    3057  \n",
       "1  2018-04-21 15:41:37.894818    3021  \n",
       "2  2018-04-21 15:41:37.894854    3054  \n",
       "3  2018-04-21 15:41:37.894889    3004  \n",
       "4  2018-04-21 15:41:37.894920    3050  "
      ]
     },
     "execution_count": 329,
     "metadata": {},
     "output_type": "execute_result"
    }
   ],
   "source": [
    "new_df.head()"
   ]
  },
  {
   "cell_type": "markdown",
   "metadata": {},
   "source": [
    "### Tests"
   ]
  },
  {
   "cell_type": "code",
   "execution_count": 320,
   "metadata": {},
   "outputs": [],
   "source": [
    "import requests as req"
   ]
  },
  {
   "cell_type": "code",
   "execution_count": 262,
   "metadata": {},
   "outputs": [],
   "source": [
    "hostname = \"http://localhost:5000\""
   ]
  },
  {
   "cell_type": "code",
   "execution_count": 321,
   "metadata": {},
   "outputs": [],
   "source": [
    "URL = hostname + \"/scores/user_id=2041&learning_obj_id=785&exercise_id=2214055\""
   ]
  },
  {
   "cell_type": "code",
   "execution_count": 265,
   "metadata": {},
   "outputs": [],
   "source": [
    "data = [{\"SubmitDateTime\":\"2017-11-28 07:32:54.487\",\"UserId\":204500,\"ExerciseId\":1132397,\"LearningObjectiveId\":785,\"Correct\":1,\"AbilityAfterAnswer\":\"552 \"},{\"SubmitDateTime\":\"2017-11-28 07:33:16.340\",\"UserId\":204500,\"ExerciseId\":2214055,\"LearningObjectiveId\":785,\"Correct\":0,\"AbilityAfterAnswer\":\"542 \"},{\"SubmitDateTime\":\"2017-11-28 07:33:19.497\",\"UserId\":204500,\"ExerciseId\":2214055,\"LearningObjectiveId\":785,\"Correct\":0,\"AbilityAfterAnswer\":\"NULL \"}]"
   ]
  },
  {
   "cell_type": "code",
   "execution_count": 323,
   "metadata": {},
   "outputs": [
    {
     "data": {
      "text/plain": [
       "{'number_of_data': 8000}"
      ]
     },
     "execution_count": 323,
     "metadata": {},
     "output_type": "execute_result"
    }
   ],
   "source": [
    "req.get(hostname + \"/number_of_data\").json()"
   ]
  }
 ],
 "metadata": {
  "kernelspec": {
   "display_name": "Python 2",
   "language": "python",
   "name": "python2"
  },
  "language_info": {
   "codemirror_mode": {
    "name": "ipython",
    "version": 2
   },
   "file_extension": ".py",
   "mimetype": "text/x-python",
   "name": "python",
   "nbconvert_exporter": "python",
   "pygments_lexer": "ipython2",
   "version": "2.7.14"
  }
 },
 "nbformat": 4,
 "nbformat_minor": 2
}
